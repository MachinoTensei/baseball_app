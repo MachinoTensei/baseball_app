{
 "cells": [
  {
   "cell_type": "code",
   "execution_count": 1,
   "metadata": {},
   "outputs": [
    {
     "name": "stderr",
     "output_type": "stream",
     "text": [
      "Using TensorFlow backend.\n"
     ]
    },
    {
     "name": "stdout",
     "output_type": "stream",
     "text": [
      "WARNING:tensorflow:From /Users/tensei/Desktop/仮想環境2/pappapa/lib/python3.7/site-packages/tensorflow/python/framework/op_def_library.py:263: colocate_with (from tensorflow.python.framework.ops) is deprecated and will be removed in a future version.\n",
      "Instructions for updating:\n",
      "Colocations handled automatically by placer.\n",
      "WARNING:tensorflow:From /Users/tensei/Desktop/仮想環境2/pappapa/lib/python3.7/site-packages/tensorflow/python/ops/math_ops.py:3066: to_int32 (from tensorflow.python.ops.math_ops) is deprecated and will be removed in a future version.\n",
      "Instructions for updating:\n",
      "Use tf.cast instead.\n"
     ]
    }
   ],
   "source": [
    "import numpy as np\n",
    "import pickle\n",
    "\n",
    "f = open(\"baseball_model\", \"rb\")\n",
    " \n",
    "model2 = pickle.load(f)"
   ]
  },
  {
   "cell_type": "code",
   "execution_count": 2,
   "metadata": {},
   "outputs": [
    {
     "name": "stdout",
     "output_type": "stream",
     "text": [
      "[[ 0.34145867 -0.52926405  0.77239815  1.15779327  0.41585282  0.59333265\n",
      "   2.4274222   2.05358288 -0.53014099  0.68560638 -0.38503714 -0.63003824]]\n"
     ]
    }
   ],
   "source": [
    "data = np.array([0.272,0.302,69,153,21,4,31,104,22,80,4,3])\n",
    "\n",
    "mean_train = np.array([0.25924, 0.32521668, 46.94, 93.69334, 16.78, 2.4466667, 9, 44.1, 35.193333, 57.013332, 8.576667, 6.76])\n",
    "std_train = np.array([3.7369091e-02, 4.3865968e-02, 2.8560400e+01, 5.1223877e+01, 1.0147821e+01,\n",
    " 2.6179805e+00, 9.0631123e+00, 2.9168533e+01, 2.4886461e+01, 3.3527500e+01, 1.1886300e+01, 5.9678917e+00])\n",
    "\n",
    "for i in range(12):\n",
    "    data[i] = (data[i] - mean_train[i]) / std_train[i]\n",
    "data = data.reshape(1, 12)\n",
    "\n",
    "print(data)"
   ]
  },
  {
   "cell_type": "code",
   "execution_count": 3,
   "metadata": {},
   "outputs": [
    {
     "name": "stdout",
     "output_type": "stream",
     "text": [
      "$ 3295197 ( 421785216 円 ）\n"
     ]
    }
   ],
   "source": [
    "std_label = 1248.6285\n",
    "mean_label = 1274.0566\n",
    "\n",
    "ans = model2.predict(data)\n",
    "ans = (ans * std_label) + mean_label\n",
    "ans = int(ans[0][0]*1000)\n",
    "print(\"$\", ans, \"(\", ans*128, \"円 ）\")"
   ]
  },
  {
   "cell_type": "code",
   "execution_count": null,
   "metadata": {},
   "outputs": [],
   "source": []
  }
 ],
 "metadata": {
  "kernelspec": {
   "display_name": "Python 3",
   "language": "python",
   "name": "python3"
  },
  "language_info": {
   "codemirror_mode": {
    "name": "ipython",
    "version": 3
   },
   "file_extension": ".py",
   "mimetype": "text/x-python",
   "name": "python",
   "nbconvert_exporter": "python",
   "pygments_lexer": "ipython3",
   "version": "3.7.3"
  }
 },
 "nbformat": 4,
 "nbformat_minor": 2
}
